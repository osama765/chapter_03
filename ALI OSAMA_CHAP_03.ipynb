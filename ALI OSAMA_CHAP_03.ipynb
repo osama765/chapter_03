{
 "cells": [
  {
   "cell_type": "markdown",
   "metadata": {},
   "source": [
    "# EXERCISE#3.1"
   ]
  },
  {
   "cell_type": "code",
   "execution_count": 7,
   "metadata": {},
   "outputs": [
    {
     "name": "stdout",
     "output_type": "stream",
     "text": [
      "ENTER CURRENT TEMPERATURE IN DEGREE FARENHITE:50\n",
      "10.0\n"
     ]
    }
   ],
   "source": [
    "temperature_in_farenhite=int(input(\"ENTER CURRENT TEMPERATURE IN DEGREE FARENHITE:\"))\n",
    "temperature_in_celsius=5/9*(temperature_in_farenhite-32)\n",
    "print(temperature_in_celsius)"
   ]
  },
  {
   "cell_type": "markdown",
   "metadata": {},
   "source": [
    "# EXERCISE#3.2[a]"
   ]
  },
  {
   "cell_type": "code",
   "execution_count": 10,
   "metadata": {},
   "outputs": [
    {
     "name": "stdout",
     "output_type": "stream",
     "text": [
      "ENTER YOUR AGE:65\n",
      "YOU CAN GET YOUR PENSION BENIFITS\n"
     ]
    }
   ],
   "source": [
    "age=int(input(\"ENTER YOUR AGE:\"))\n",
    "if age>62:\n",
    "    print(\"YOU CAN GET YOUR PENSION BENIFITS\")\n",
    "else:\n",
    "    print(\"SORRY YOU CAN'T GET YOU PENSION BENIFITS\")"
   ]
  },
  {
   "cell_type": "markdown",
   "metadata": {},
   "source": [
    "# EXERCISE#3.2[b]"
   ]
  },
  {
   "cell_type": "code",
   "execution_count": 17,
   "metadata": {},
   "outputs": [
    {
     "name": "stdout",
     "output_type": "stream",
     "text": [
      "ONE OF THE TOP 5 BASEBALLERS IN THE WORLD\n"
     ]
    }
   ],
   "source": [
    "name=['musial','aaraon','williams','gehrig','ruth']\n",
    "if name==['musial','aaraon','williams','gehrig','ruth']:\n",
    "    print(\"ONE OF THE TOP 5 BASEBALLERS IN THE WORLD\")\n",
    "else:\n",
    "    print()"
   ]
  },
  {
   "cell_type": "markdown",
   "metadata": {},
   "source": [
    "# EXERCISE#3.2[c]"
   ]
  },
  {
   "cell_type": "code",
   "execution_count": 21,
   "metadata": {},
   "outputs": [
    {
     "name": "stdout",
     "output_type": "stream",
     "text": [
      "ENTER THE HITS:3\n",
      "ENTER THE SHIELD:0\n",
      "YOU ARE DEAD\n"
     ]
    }
   ],
   "source": [
    "hits=int(input(\"ENTER THE HITS:\"))\n",
    "shield=int(input(\"ENTER THE SHIELD:\"))\n",
    "if hits>10 or shield==0:\n",
    "    print(\"YOU ARE DEAD\")\n",
    "else:\n",
    "    print()"
   ]
  },
  {
   "cell_type": "markdown",
   "metadata": {},
   "source": [
    "# EXERCISE#3.2[d]"
   ]
  },
  {
   "cell_type": "code",
   "execution_count": 24,
   "metadata": {},
   "outputs": [
    {
     "name": "stdout",
     "output_type": "stream",
     "text": [
      "YOU CAN ESCAPE\n"
     ]
    }
   ],
   "source": [
    "if (\"north<south<east<west\"):\n",
    "    print(\"YOU CAN ESCAPE\")\n",
    "else:\n",
    "    print(\"SORRY YOU CAN'T ESCAPE\")"
   ]
  },
  {
   "cell_type": "markdown",
   "metadata": {},
   "source": [
    "# EXERCISE#3.3[a]"
   ]
  },
  {
   "cell_type": "code",
   "execution_count": 25,
   "metadata": {},
   "outputs": [
    {
     "name": "stdout",
     "output_type": "stream",
     "text": [
      "ENTER THE LEAP YEAR:12\n",
      "THIS IS A LEAP YEAR\n"
     ]
    }
   ],
   "source": [
    "a=int(input(\"ENTER THE LEAP YEAR:\"))\n",
    "if a%4==0:\n",
    "    print(\"THIS IS A LEAP YEAR\")\n",
    "else:\n",
    "    print(\"DEFINITELY A LEAP YEAR\")"
   ]
  },
  {
   "cell_type": "markdown",
   "metadata": {},
   "source": [
    "# EXERCISE#3.3[b]"
   ]
  },
  {
   "cell_type": "code",
   "execution_count": 40,
   "metadata": {},
   "outputs": [
    {
     "name": "stdout",
     "output_type": "stream",
     "text": [
      "BETTER LUCK NEXT TIME\n"
     ]
    }
   ],
   "source": [
    "if list('ticket')==list('lottery'):\n",
    "    print(\"YOU WON\")\n",
    "else:\n",
    "    print(\"BETTER LUCK NEXT TIME\")"
   ]
  },
  {
   "cell_type": "markdown",
   "metadata": {},
   "source": [
    "# exercise#3.4"
   ]
  },
  {
   "cell_type": "code",
   "execution_count": 7,
   "metadata": {},
   "outputs": [
    {
     "name": "stdout",
     "output_type": "stream",
     "text": [
      "ENTER YOUR LOGIN_ID PLEASE:osama\n",
      "DANGER!!UNKNOWN USER LOGIN TO YOUR SYSTEM\n"
     ]
    }
   ],
   "source": [
    "a=str(input(\"ENTER YOUR LOGIN_ID PLEASE:\"))\n",
    "login_ID=['joe','hani','sophie','sue']\n",
    "if a==login_ID[0] or a==login_ID[1] or a==login_ID[2] or a==login_ID[3]:\n",
    "    print(\"YOU ARE IN\")\n",
    "    print(\"GOODLUCK\")\n",
    "else:\n",
    "    print(\"DANGER!!UNKNOWN USER LOGIN TO YOUR SYSTEM\")"
   ]
  },
  {
   "cell_type": "markdown",
   "metadata": {},
   "source": [
    "# EXERCISE#3.5"
   ]
  },
  {
   "cell_type": "code",
   "execution_count": 3,
   "metadata": {},
   "outputs": [
    {
     "name": "stdout",
     "output_type": "stream",
     "text": [
      "stop\n",
      "dekstop\n",
      "top\n",
      "post\n"
     ]
    }
   ],
   "source": [
    "a=['stop','dekstop','top','post']\n",
    "print(a[0])\n",
    "print(a[1])\n",
    "print(a[2])\n",
    "print(a[3])"
   ]
  },
  {
   "cell_type": "markdown",
   "metadata": {},
   "source": [
    "# EXERCISE#3.6[a]"
   ]
  },
  {
   "cell_type": "code",
   "execution_count": 16,
   "metadata": {},
   "outputs": [
    {
     "name": "stdout",
     "output_type": "stream",
     "text": [
      "0\n",
      "1\n",
      "2\n",
      "3\n",
      "4\n",
      "5\n",
      "6\n",
      "7\n",
      "8\n",
      "9\n"
     ]
    }
   ],
   "source": [
    "for i in range(0,10):\n",
    "    print(i)        "
   ]
  },
  {
   "cell_type": "markdown",
   "metadata": {},
   "source": [
    "# EXERCISE#3.6[b]"
   ]
  },
  {
   "cell_type": "code",
   "execution_count": 20,
   "metadata": {},
   "outputs": [
    {
     "name": "stdout",
     "output_type": "stream",
     "text": [
      "0\n",
      "1\n"
     ]
    }
   ],
   "source": [
    "for a in range(0,2):\n",
    "    print(a)"
   ]
  },
  {
   "cell_type": "markdown",
   "metadata": {},
   "source": [
    "# EXERCISE#3.7[a]"
   ]
  },
  {
   "cell_type": "code",
   "execution_count": 21,
   "metadata": {},
   "outputs": [
    {
     "name": "stdout",
     "output_type": "stream",
     "text": [
      "3\n",
      "4\n",
      "5\n",
      "6\n",
      "7\n",
      "8\n",
      "9\n",
      "10\n",
      "11\n",
      "12\n"
     ]
    }
   ],
   "source": [
    "for r in range(3,13):\n",
    "    print(r)"
   ]
  },
  {
   "cell_type": "markdown",
   "metadata": {},
   "source": [
    "# EXERCISE#3.7[b]"
   ]
  },
  {
   "cell_type": "code",
   "execution_count": 25,
   "metadata": {},
   "outputs": [
    {
     "name": "stdout",
     "output_type": "stream",
     "text": [
      "0\n",
      "2\n",
      "4\n",
      "6\n",
      "8\n"
     ]
    }
   ],
   "source": [
    "for e in range(0,9,2):\n",
    "    print(e)"
   ]
  },
  {
   "cell_type": "markdown",
   "metadata": {},
   "source": [
    "# EXERCISE#3.7[c]"
   ]
  },
  {
   "cell_type": "code",
   "execution_count": 26,
   "metadata": {},
   "outputs": [
    {
     "name": "stdout",
     "output_type": "stream",
     "text": [
      "0\n",
      "3\n",
      "6\n",
      "9\n",
      "12\n",
      "15\n",
      "18\n",
      "21\n"
     ]
    }
   ],
   "source": [
    "for e in range(0,24,3):\n",
    "    print(e)"
   ]
  },
  {
   "cell_type": "markdown",
   "metadata": {},
   "source": [
    "# EXERCISE#3.7[d]"
   ]
  },
  {
   "cell_type": "code",
   "execution_count": 27,
   "metadata": {},
   "outputs": [
    {
     "name": "stdout",
     "output_type": "stream",
     "text": [
      "3\n",
      "6\n",
      "9\n"
     ]
    }
   ],
   "source": [
    "for b in range(3,12,3):\n",
    "    print(b)"
   ]
  },
  {
   "cell_type": "markdown",
   "metadata": {},
   "source": [
    "# EXERCISE#3.8"
   ]
  },
  {
   "cell_type": "code",
   "execution_count": 30,
   "metadata": {},
   "outputs": [
    {
     "name": "stdout",
     "output_type": "stream",
     "text": [
      "ENTER THE RADIUS:10\n",
      "62.83185307179586\n"
     ]
    }
   ],
   "source": [
    "def perimeter():\n",
    "    from math import pi\n",
    "    r=int(input(\"ENTER THE RADIUS:\"))\n",
    "    perimeter_of_circle=2*pi*r\n",
    "    print(perimeter_of_circle)\n",
    "perimeter()"
   ]
  },
  {
   "cell_type": "markdown",
   "metadata": {},
   "source": [
    "# EXERCISE#3.9"
   ]
  },
  {
   "cell_type": "code",
   "execution_count": 33,
   "metadata": {},
   "outputs": [
    {
     "name": "stdout",
     "output_type": "stream",
     "text": [
      "ENTER YOUR FIRST NUMBER:10\n",
      "ENTER YOUR SECOND NUMBER:10\n",
      "10.0\n"
     ]
    }
   ],
   "source": [
    "def average():\n",
    "    a=int(input(\"ENTER YOUR FIRST NUMBER:\"))\n",
    "    b=int(input(\"ENTER YOUR SECOND NUMBER:\"))\n",
    "    average=(a+b)/2\n",
    "    print(average)\n",
    "average()"
   ]
  },
  {
   "cell_type": "markdown",
   "metadata": {},
   "source": [
    "# EXERCISE#3.10"
   ]
  },
  {
   "cell_type": "code",
   "execution_count": 63,
   "metadata": {},
   "outputs": [
    {
     "name": "stdout",
     "output_type": "stream",
     "text": [
      "enter the string:osama\n",
      "True\n"
     ]
    }
   ],
   "source": [
    "s=input(\"enter the string:\")\n",
    "def function(s):\n",
    "    for i in s:\n",
    "        if i in ('aeiouAEIOU'):\n",
    "            return True\n",
    "        else:\n",
    "            return False\n",
    "print(function(s))"
   ]
  },
  {
   "cell_type": "markdown",
   "metadata": {},
   "source": [
    "# EXERCISE#3.11"
   ]
  },
  {
   "cell_type": "code",
   "execution_count": 69,
   "metadata": {
    "scrolled": true
   },
   "outputs": [
    {
     "name": "stdout",
     "output_type": "stream",
     "text": [
      "False\n"
     ]
    }
   ],
   "source": [
    "a=[1,2,3,4,5,6,7,8,9,10]\n",
    "def alleven(a):\n",
    "    for i in a:\n",
    "        if i%2==0:\n",
    "            return True\n",
    "        else:\n",
    "            return False\n",
    "print(alleven(a))        "
   ]
  },
  {
   "cell_type": "markdown",
   "metadata": {},
   "source": [
    "# EXERCISE#3.12"
   ]
  },
  {
   "cell_type": "code",
   "execution_count": 88,
   "metadata": {},
   "outputs": [
    {
     "name": "stdout",
     "output_type": "stream",
     "text": [
      "-1\n",
      "-3\n",
      "-9\n"
     ]
    }
   ],
   "source": [
    "a=([4,0,-1,-3,6,-9])\n",
    "def negative(a):\n",
    "    for i in a:\n",
    "        if i<0:\n",
    "            print(i)\n",
    "        else:\n",
    "            ( )\n",
    "negative(a)    "
   ]
  },
  {
   "cell_type": "markdown",
   "metadata": {},
   "source": [
    "# EXERCISE#3.13"
   ]
  },
  {
   "cell_type": "code",
   "execution_count": null,
   "metadata": {},
   "outputs": [],
   "source": [
    "help(average)\n",
    "help(negative)"
   ]
  },
  {
   "cell_type": "markdown",
   "metadata": {},
   "source": [
    "# EXERCISE#3.14"
   ]
  },
  {
   "cell_type": "code",
   "execution_count": 11,
   "metadata": {},
   "outputs": [
    {
     "name": "stdout",
     "output_type": "stream",
     "text": [
      "[5, 6, 7]\n",
      "3\n"
     ]
    }
   ],
   "source": [
    "a=[5,6,7]\n",
    "b=a\n",
    "print(b)\n",
    "a=3\n",
    "print(a)"
   ]
  },
  {
   "cell_type": "markdown",
   "metadata": {},
   "source": [
    "# EXERCISE#3.15"
   ]
  },
  {
   "cell_type": "code",
   "execution_count": 17,
   "metadata": {},
   "outputs": [
    {
     "name": "stdout",
     "output_type": "stream",
     "text": [
      "['SARAH', 'ELEANOR', 'CLARE', 'AVA']\n"
     ]
    }
   ],
   "source": [
    "team=['AVA','ELEANOR','CLARE','SARAH']\n",
    "team[0],team[3]=team[3],team[0]\n",
    "print(team)"
   ]
  },
  {
   "cell_type": "markdown",
   "metadata": {},
   "source": [
    "# EXERCISE#3.16"
   ]
  },
  {
   "cell_type": "code",
   "execution_count": 24,
   "metadata": {},
   "outputs": [
    {
     "name": "stdout",
     "output_type": "stream",
     "text": [
      "['daniyal', 'saad', 'asad', 'osama']\n"
     ]
    }
   ],
   "source": [
    "def swapFL():\n",
    "    a=['osama','saad','asad','daniyal']\n",
    "    a[0],a[-1]=a[-1],a[0]\n",
    "    print(a)\n",
    "swapFL()"
   ]
  },
  {
   "cell_type": "markdown",
   "metadata": {},
   "source": [
    "# EXERCISE#3.17[a]"
   ]
  },
  {
   "cell_type": "code",
   "execution_count": 31,
   "metadata": {},
   "outputs": [
    {
     "data": {
      "text/plain": [
       "7"
      ]
     },
     "execution_count": 31,
     "metadata": {},
     "output_type": "execute_result"
    }
   ],
   "source": [
    "eval(\"2*3+1\")"
   ]
  },
  {
   "cell_type": "markdown",
   "metadata": {},
   "source": [
    "# EXERCISE#3.17[b]"
   ]
  },
  {
   "cell_type": "code",
   "execution_count": 36,
   "metadata": {},
   "outputs": [
    {
     "data": {
      "text/plain": [
       "'hello'"
      ]
     },
     "execution_count": 36,
     "metadata": {},
     "output_type": "execute_result"
    }
   ],
   "source": [
    "eval(\"'hello'\")"
   ]
  },
  {
   "cell_type": "markdown",
   "metadata": {},
   "source": [
    "# EXERCISE#3.17[C]"
   ]
  },
  {
   "cell_type": "code",
   "execution_count": 33,
   "metadata": {},
   "outputs": [
    {
     "data": {
      "text/plain": [
       "'hello world!'"
      ]
     },
     "execution_count": 33,
     "metadata": {},
     "output_type": "execute_result"
    }
   ],
   "source": [
    "eval(\"'hello'+' '+'world!'\")"
   ]
  },
  {
   "cell_type": "markdown",
   "metadata": {},
   "source": [
    "# EXERCISE#3.17[d]"
   ]
  },
  {
   "cell_type": "code",
   "execution_count": 37,
   "metadata": {},
   "outputs": [
    {
     "data": {
      "text/plain": [
       "2"
      ]
     },
     "execution_count": 37,
     "metadata": {},
     "output_type": "execute_result"
    }
   ],
   "source": [
    "eval(\"'ASCII'.count('I')\")"
   ]
  },
  {
   "cell_type": "markdown",
   "metadata": {},
   "source": [
    "# EXERCISE#3.17[e]"
   ]
  },
  {
   "cell_type": "code",
   "execution_count": 40,
   "metadata": {},
   "outputs": [
    {
     "data": {
      "text/plain": [
       "'x=5'"
      ]
     },
     "execution_count": 40,
     "metadata": {},
     "output_type": "execute_result"
    }
   ],
   "source": [
    "eval(\"'x=5'\")"
   ]
  },
  {
   "cell_type": "markdown",
   "metadata": {},
   "source": [
    "# EXERCISE#3.18 AND EXERCISE#19:"
   ]
  },
  {
   "cell_type": "code",
   "execution_count": 48,
   "metadata": {},
   "outputs": [
    {
     "name": "stdout",
     "output_type": "stream",
     "text": [
      "OK\n",
      "NOT\n",
      "NOT OK\n",
      "OK\n"
     ]
    }
   ],
   "source": [
    "a,b,c=3,4,5\n",
    "if a<b:\n",
    "    print('OK')\n",
    "else:\n",
    "    print('NOT OK')\n",
    "if c<b:\n",
    "    print(\"OK\")\n",
    "else:\n",
    "    print(\"NOT\")\n",
    "if a+b==c:\n",
    "    print(\"OK\")\n",
    "else:\n",
    "    print(\"NOT OK\")\n",
    "if (a**2+b**2)==c**2:\n",
    "    print(\"OK\")\n",
    "else:\n",
    "    print(\"NOT OK\")"
   ]
  },
  {
   "cell_type": "markdown",
   "metadata": {},
   "source": [
    "# EXERCISE#3.20"
   ]
  },
  {
   "cell_type": "code",
   "execution_count": 84,
   "metadata": {},
   "outputs": [
    {
     "name": "stdout",
     "output_type": "stream",
     "text": [
      "jan\n",
      "feb\n",
      "mar\n"
     ]
    }
   ],
   "source": [
    "a=['january','february','march']\n",
    "for a in a:\n",
    "    print(a[0:3])"
   ]
  },
  {
   "cell_type": "markdown",
   "metadata": {},
   "source": [
    "# EXERCISE#3.21"
   ]
  },
  {
   "cell_type": "code",
   "execution_count": 98,
   "metadata": {
    "scrolled": true
   },
   "outputs": [
    {
     "name": "stdout",
     "output_type": "stream",
     "text": [
      "2\n",
      "4\n",
      "6\n",
      "8\n"
     ]
    }
   ],
   "source": [
    "a=[1,2,3,4,5,6,7,8,9]\n",
    "for i in a:\n",
    "    if i%2==0:\n",
    "        print(i)"
   ]
  },
  {
   "cell_type": "markdown",
   "metadata": {},
   "source": [
    "# EXERCISE#3.22"
   ]
  },
  {
   "cell_type": "code",
   "execution_count": 103,
   "metadata": {},
   "outputs": [
    {
     "name": "stdout",
     "output_type": "stream",
     "text": [
      "4\n",
      "8\n"
     ]
    }
   ],
   "source": [
    "a=[1,2,3,4,5,6,7,8,9]\n",
    "for i in a:\n",
    "    if i%4==0:\n",
    "        print(i)"
   ]
  },
  {
   "cell_type": "markdown",
   "metadata": {},
   "source": [
    "# EXERCISE#3.23[a],[b],[c],[d],[e],[f]"
   ]
  },
  {
   "cell_type": "code",
   "execution_count": 145,
   "metadata": {},
   "outputs": [
    {
     "name": "stdout",
     "output_type": "stream",
     "text": [
      "0 1 \n",
      "\n",
      "0 \n",
      "\n",
      "3 4 5 6 \n",
      "\n",
      "1 \n",
      "\n",
      "0 1 2 3 \n",
      "\n",
      "5 9 13 17 21 \n",
      "\n"
     ]
    }
   ],
   "source": [
    "for i in range(0,2):\n",
    "    print(i,end=(\" \"))\n",
    "print('\\n')\n",
    "for i in range(1):\n",
    "    print(i,end=(\" \"))\n",
    "print('\\n')\n",
    "for i in range(3,7):\n",
    "    print(i,end=(\" \"))\n",
    "print('\\n')\n",
    "for i in range(1,2):\n",
    "    print(i,end=(\" \"))\n",
    "print('\\n')\n",
    "for i in range(0,4):\n",
    "     print(i,end=(\" \"))\n",
    "print('\\n')\n",
    "for i in range(5,22,4):\n",
    "     print(i,end=(\" \"))\n",
    "print('\\n')    "
   ]
  },
  {
   "cell_type": "markdown",
   "metadata": {},
   "source": [
    "# EXERCISE#3.24"
   ]
  },
  {
   "cell_type": "code",
   "execution_count": 151,
   "metadata": {},
   "outputs": [
    {
     "name": "stdout",
     "output_type": "stream",
     "text": [
      "cia mi6 isi\n"
     ]
    }
   ],
   "source": [
    "words=['cia','secret','mi6','isi','secret']\n",
    "print((words)[0],words[2],words[3])"
   ]
  },
  {
   "cell_type": "markdown",
   "metadata": {},
   "source": [
    "# EXERCISE#3.25"
   ]
  },
  {
   "cell_type": "code",
   "execution_count": 2,
   "metadata": {},
   "outputs": [
    {
     "name": "stdout",
     "output_type": "stream",
     "text": [
      "ellie\n",
      "steve\n",
      "sam\n",
      "owen\n",
      "gavin\n",
      "['ellie', 'steve', 'sam', 'owen', 'gavin']\n",
      "ellie\n",
      "gavin\n"
     ]
    }
   ],
   "source": [
    "a=[]\n",
    "for i in range(0,5):\n",
    "    x=a.append(input())\n",
    "print(a)\n",
    "for words in a:\n",
    "    if words[0]>=\"a\" and words[0]<=\"m\":\n",
    "        print(words)"
   ]
  },
  {
   "cell_type": "markdown",
   "metadata": {},
   "source": [
    "# EXERCISE#3.26"
   ]
  },
  {
   "cell_type": "code",
   "execution_count": 172,
   "metadata": {},
   "outputs": [
    {
     "name": "stdout",
     "output_type": "stream",
     "text": [
      "3\n",
      "9\n"
     ]
    }
   ],
   "source": [
    "a=[3,5,7,9]\n",
    "print(a[0])\n",
    "print(a[-1])"
   ]
  },
  {
   "cell_type": "markdown",
   "metadata": {},
   "source": [
    "# EXERCISE#3.27"
   ]
  },
  {
   "cell_type": "code",
   "execution_count": 3,
   "metadata": {},
   "outputs": [
    {
     "name": "stdout",
     "output_type": "stream",
     "text": [
      "ENTER THE FIRST POSITIVE INTEGER:3\n",
      "0\n",
      "3\n",
      "6\n",
      "9\n"
     ]
    }
   ],
   "source": [
    "a=int(input(\"ENTER THE FIRST POSITIVE INTEGER:\"))\n",
    "def multiple():\n",
    "    for i in range(0,4):\n",
    "        b=i*a\n",
    "        print(b)\n",
    "multiple()"
   ]
  },
  {
   "cell_type": "markdown",
   "metadata": {},
   "source": [
    "# EXERCISE#3.28"
   ]
  },
  {
   "cell_type": "code",
   "execution_count": 51,
   "metadata": {},
   "outputs": [
    {
     "name": "stdout",
     "output_type": "stream",
     "text": [
      "ENTER THE INTEGER:3\n",
      "0\n",
      "1\n",
      "4\n"
     ]
    }
   ],
   "source": [
    "a=int(input(\"ENTER THE INTEGER:\"))\n",
    "for i in range(0,a):\n",
    "    count=i**2\n",
    "    print(count)"
   ]
  },
  {
   "cell_type": "markdown",
   "metadata": {},
   "source": [
    "# EXERCISE#3.29"
   ]
  },
  {
   "cell_type": "code",
   "execution_count": 17,
   "metadata": {},
   "outputs": [
    {
     "name": "stdout",
     "output_type": "stream",
     "text": [
      "ENTER THE POSITIVE INTEGER:49\n",
      "1\n",
      "7\n",
      "49\n"
     ]
    }
   ],
   "source": [
    "a=int(input(\"ENTER THE POSITIVE INTEGER:\"))\n",
    "for i in range(1,a+1):\n",
    "    if a%i == 0:\n",
    "        print(i)"
   ]
  },
  {
   "cell_type": "markdown",
   "metadata": {},
   "source": [
    "# EXERCISE#3.30"
   ]
  },
  {
   "cell_type": "code",
   "execution_count": 2,
   "metadata": {},
   "outputs": [
    {
     "name": "stdout",
     "output_type": "stream",
     "text": [
      "ENTER FIRST NUMBER:4.5\n",
      "ENTER SECOND NUMBER:3\n",
      "ENTER THIRD NUMBER:3\n",
      "ENTER FOURTH NUMBER:3.5\n",
      "EQUAL\n"
     ]
    }
   ],
   "source": [
    "a=float(input(\"ENTER FIRST NUMBER:\"))\n",
    "b=float(input(\"ENTER SECOND NUMBER:\"))\n",
    "c=float(input(\"ENTER THIRD NUMBER:\"))\n",
    "average=(a+b+c)/3\n",
    "d=float(input(\"ENTER FOURTH NUMBER:\"))\n",
    "if average==d:\n",
    "    print(\"EQUAL\")\n",
    "else:\n",
    "    print(\"SORRY YOUR NUMBERS ARE NOT EQUAL\")"
   ]
  },
  {
   "cell_type": "markdown",
   "metadata": {},
   "source": [
    "# EXERCISE#3.31"
   ]
  },
  {
   "cell_type": "code",
   "execution_count": 1,
   "metadata": {},
   "outputs": [
    {
     "name": "stdout",
     "output_type": "stream",
     "text": [
      "enter x-cordinate:-2\n",
      "enter y-cordinate:8\n",
      "it is in!!\n"
     ]
    }
   ],
   "source": [
    "x=int(input(\"enter x-cordinate:\"))\n",
    "y=int(input(\"enter y-cordinate:\"))\n",
    "radius=8\n",
    "if x<-10 or y<10:\n",
    "    print(\"it is in!!\")\n",
    "else:\n",
    "    print(\"it is out\")"
   ]
  },
  {
   "cell_type": "markdown",
   "metadata": {},
   "source": [
    "# EXERCISE#3.32"
   ]
  },
  {
   "cell_type": "code",
   "execution_count": 20,
   "metadata": {},
   "outputs": [
    {
     "name": "stdout",
     "output_type": "stream",
     "text": [
      "ENTER THE FOUR DIGIT NUMBER:1234\n",
      "1233\n"
     ]
    }
   ],
   "source": [
    "a=int(input(\"ENTER THE FOUR DIGIT NUMBER:\"))\n",
    "print(i)"
   ]
  },
  {
   "cell_type": "markdown",
   "metadata": {},
   "source": [
    "# EXERCISE#3.33"
   ]
  },
  {
   "cell_type": "code",
   "execution_count": 35,
   "metadata": {},
   "outputs": [
    {
     "name": "stdout",
     "output_type": "stream",
     "text": [
      "enter your string:cat\n",
      "tac\n"
     ]
    }
   ],
   "source": [
    "name=str(input(\"enter your string:\"))\n",
    "name1=name[::-1]\n",
    "print(name1)"
   ]
  },
  {
   "cell_type": "markdown",
   "metadata": {},
   "source": [
    "# EXERCISE#3.34"
   ]
  },
  {
   "cell_type": "code",
   "execution_count": 47,
   "metadata": {},
   "outputs": [
    {
     "name": "stdout",
     "output_type": "stream",
     "text": [
      "enter hourly wage:10\n",
      "enter number of hours:45\n",
      "465.0\n"
     ]
    }
   ],
   "source": [
    "def pay(x,y):\n",
    "    x=int(input(\"enter hourly wage:\"))\n",
    "    y=int(input(\"enter number of hours:\"))\n",
    "    if y>40:\n",
    "        b=(x*y)+1.5*x\n",
    "        print(b)\n",
    "    else:\n",
    "        a=x*y\n",
    "        print(a)\n",
    "pay(x,y)"
   ]
  },
  {
   "cell_type": "markdown",
   "metadata": {},
   "source": [
    "# EXERCISE#3.35"
   ]
  },
  {
   "cell_type": "code",
   "execution_count": 49,
   "metadata": {},
   "outputs": [
    {
     "data": {
      "text/plain": [
       "0.25"
      ]
     },
     "execution_count": 49,
     "metadata": {},
     "output_type": "execute_result"
    }
   ],
   "source": [
    "def prob(n):\n",
    "    c=2**-n\n",
    "    return(c)\n",
    "prob(2)"
   ]
  },
  {
   "cell_type": "markdown",
   "metadata": {},
   "source": [
    "# EXERCISE#3.36"
   ]
  },
  {
   "cell_type": "code",
   "execution_count": 59,
   "metadata": {},
   "outputs": [
    {
     "name": "stdout",
     "output_type": "stream",
     "text": [
      "Please Enter any Number: 1234\n",
      "\n",
      " Reverse of entered number is = 4321\n"
     ]
    }
   ],
   "source": [
    "Number = int(input(\"Please Enter any Number: \"))\n",
    "Reverse = 0\n",
    "while(Number > 0):\n",
    "    Reminder = Number %10\n",
    "    Reverse = (Reverse *10) + Reminder\n",
    "    Number = Number //10\n",
    "\n",
    "print(\"\\n Reverse of entered number is = %d\" %Reverse)"
   ]
  },
  {
   "cell_type": "markdown",
   "metadata": {},
   "source": [
    "# EXERCISE#3.37"
   ]
  },
  {
   "cell_type": "code",
   "execution_count": 71,
   "metadata": {},
   "outputs": [
    {
     "name": "stdout",
     "output_type": "stream",
     "text": [
      "THE SLOPE OF POINT IS: 1.0 THE DISTANCE IS 1.4142135623730951\n"
     ]
    }
   ],
   "source": [
    "def points():\n",
    "    import math\n",
    "    x1=0\n",
    "    y1=0\n",
    "    x2=1\n",
    "    y2=1\n",
    "    slope=(y2-y1)/(x2-x1)\n",
    "    distance=math.sqrt((x2-x1)**2+(y2-y1)**2)\n",
    "    print(\"THE SLOPE OF POINT IS:\",slope,\"THE DISTANCE IS\",distance)\n",
    "points()"
   ]
  },
  {
   "cell_type": "markdown",
   "metadata": {},
   "source": [
    "# EXERCISE#3.38"
   ]
  },
  {
   "cell_type": "code",
   "execution_count": 74,
   "metadata": {},
   "outputs": [
    {
     "name": "stdout",
     "output_type": "stream",
     "text": [
      "enter a day of your choice:tuesday\n",
      "tu\n"
     ]
    }
   ],
   "source": [
    "def abbrevation():\n",
    "    a=str(input(\"enter a day of your choice:\"))\n",
    "    print(a[0:2])\n",
    "abbrevation()"
   ]
  },
  {
   "cell_type": "markdown",
   "metadata": {},
   "source": [
    "# EXERCISE#3.39"
   ]
  },
  {
   "cell_type": "code",
   "execution_count": 1,
   "metadata": {},
   "outputs": [
    {
     "name": "stdout",
     "output_type": "stream",
     "text": [
      "TRUE\n"
     ]
    }
   ],
   "source": [
    "def collision():\n",
    "    x1=0\n",
    "    y1=0\n",
    "    r1=3\n",
    "    x2=0\n",
    "    y2=5\n",
    "    r2=3\n",
    "    C=(x2-x1)**2+(y2-y1)**2\n",
    "    R=(r2+r1)**2\n",
    "    if (x2-x1)**2+(y2-y1)**2<=(r2+r1)**2:\n",
    "        print(\"TRUE\")\n",
    "    else:\n",
    "        print(\"FALSE\")\n",
    "collision()"
   ]
  },
  {
   "cell_type": "markdown",
   "metadata": {},
   "source": [
    "# EXERCISE#3.40"
   ]
  },
  {
   "cell_type": "code",
   "execution_count": 2,
   "metadata": {},
   "outputs": [
    {
     "name": "stdout",
     "output_type": "stream",
     "text": [
      "ELEANOR\n",
      "EVELYN\n",
      "SAMMY\n",
      "OWENS\n",
      "GAVINS\n",
      "['ELEANOR', 'EVELYN', 'SAMMY', 'OWENS', 'GAVINS']\n",
      "ELEANOR\n",
      "EVELYN\n",
      "GAVINS\n"
     ]
    }
   ],
   "source": [
    "a=[]\n",
    "for i in range(0,5):\n",
    "    x=a.append(input())\n",
    "print(a)\n",
    "for words in a:\n",
    "    if words[0]>=\"A\" and words[0]<=\"M\":\n",
    "        print(words)"
   ]
  },
  {
   "cell_type": "markdown",
   "metadata": {},
   "source": [
    "# EXERCISE#3.41"
   ]
  },
  {
   "cell_type": "code",
   "execution_count": 4,
   "metadata": {},
   "outputs": [
    {
     "name": "stdout",
     "output_type": "stream",
     "text": [
      "enter your first name:ali\n",
      "enter your last nameosama\n",
      "a osama\n"
     ]
    }
   ],
   "source": [
    "a=str(input(\"enter your first name:\"))\n",
    "b=str(input(\"enter your last name\"))\n",
    "def lastF():\n",
    "    print(a[0],b)\n",
    "lastF()"
   ]
  },
  {
   "cell_type": "markdown",
   "metadata": {},
   "source": [
    "# EXERCISE#3.42"
   ]
  },
  {
   "cell_type": "code",
   "execution_count": 11,
   "metadata": {},
   "outputs": [
    {
     "name": "stdout",
     "output_type": "stream",
     "text": [
      "90.0\n",
      "60.0\n",
      "87.0\n",
      "11.0\n"
     ]
    },
    {
     "data": {
      "text/plain": [
       "<function __main__.avg(A, B, C, D)>"
      ]
     },
     "execution_count": 11,
     "metadata": {},
     "output_type": "execute_result"
    }
   ],
   "source": [
    "def avg(A,B,C,D):\n",
    "    avg1= sum(A)/4\n",
    "    print(avg1)\n",
    "    avg2 = sum(B)/2\n",
    "    print(avg2)\n",
    "    avg3 = sum(C)/3\n",
    "    print(avg3)\n",
    "    avg4= sum(D)/3\n",
    "    print(avg4)\n",
    "    return avg\n",
    "avg([95,92,86,87],[66,54],[89,72,100],[33,0,0])"
   ]
  },
  {
   "cell_type": "markdown",
   "metadata": {},
   "source": [
    "# EXERCISE#3.43"
   ]
  },
  {
   "cell_type": "code",
   "execution_count": 12,
   "metadata": {},
   "outputs": [
    {
     "name": "stdout",
     "output_type": "stream",
     "text": [
      "true\n"
     ]
    }
   ],
   "source": [
    "import math\n",
    "def hits():\n",
    "    x1=0\n",
    "    y1=0\n",
    "    r=3\n",
    "    x2=3\n",
    "    y2=0\n",
    "    p=math.sqrt((x2-x1)**2+(y2-y1)**2)\n",
    "    if p<=r:\n",
    "        print('true')\n",
    "    else:\n",
    "        print('false')\n",
    "hits()"
   ]
  },
  {
   "cell_type": "markdown",
   "metadata": {},
   "source": [
    "# EXERCISE#3.44"
   ]
  },
  {
   "cell_type": "code",
   "execution_count": 39,
   "metadata": {},
   "outputs": [
    {
     "name": "stdout",
     "output_type": "stream",
     "text": [
      "enter the time5\n",
      "enter the speed of sound340.29\n",
      "1.4693349789885097\n"
     ]
    }
   ],
   "source": [
    "def distance():\n",
    "    t = int(input('enter the time'))\n",
    "    v= float(input('enter the speed of sound'))\n",
    "    s =t/v*100\n",
    "    print(s)\n",
    "distance()"
   ]
  },
  {
   "cell_type": "markdown",
   "metadata": {},
   "source": []
  }
 ],
 "metadata": {
  "kernelspec": {
   "display_name": "Python 3",
   "language": "python",
   "name": "python3"
  },
  "language_info": {
   "codemirror_mode": {
    "name": "ipython",
    "version": 3
   },
   "file_extension": ".py",
   "mimetype": "text/x-python",
   "name": "python",
   "nbconvert_exporter": "python",
   "pygments_lexer": "ipython3",
   "version": "3.7.4"
  }
 },
 "nbformat": 4,
 "nbformat_minor": 2
}
